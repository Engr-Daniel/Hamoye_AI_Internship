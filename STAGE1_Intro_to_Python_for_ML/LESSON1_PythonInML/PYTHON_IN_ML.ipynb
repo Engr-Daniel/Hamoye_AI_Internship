{
 "cells": [
  {
   "cell_type": "markdown",
   "id": "e29e5b6e",
   "metadata": {},
   "source": [
    "# 001_Getting Started With Python & Data Analysis"
   ]
  },
  {
   "cell_type": "markdown",
   "id": "02b47598",
   "metadata": {},
   "source": [
    "#### The Complete Data Science Pipeline"
   ]
  },
  {
   "cell_type": "markdown",
   "id": "ad8ffcca",
   "metadata": {},
   "source": [
    "The data science pipeline can be described as end-to-end process in which each step contributes to producing the final insights. Every data science projects begins defining a clear problem it aims to solve or business/technical questions to provide answer to. Data is the core of data science, hence, scoping and collecting the right data for the project is very crucial to achieving the required results.\n",
    "\n",
    "Complete Data Science PIPELINE:\n",
    "Data_Scoping --> Data_Review --> Feature_Engineering --> Feature_Review --> Model_Selection_and_Review --> Model_Evaluation_and_Insighs --> Interaction/Production --> Feedback\n",
    "\n",
    "After collection od data, the next step in the pipeline involves wrangling, reviewing and transforming the data from a messy/raw form to a more appropriate state for ease of use. Although this can be time-consuming, it is very essential to clean the data extensively since machine learning models are only as good as the data provided - garbage in garbage out. Conducting Exploratory Data Analysis (EDA) on the cleaned data using visualisations and statistical methods gives a quick insight into the various patterns and relationships between features in the dataset. Modelling involves using statistical and machine learning methods for classifying and clustering the processed data to create predictive models. Several evaluation methods are employed to compare the performance of these models and continuously improve before a final model is selected. Finally, all the work done in the pipeline is irrelevant if the results cannot be interpreted and communicated properly to the appropriate audience. It is imperative to present findings from the analysis done through visualisations and clear reporting. For the most part, the data science pipeline is not a linear process; it’s instead an iterative process."
   ]
  },
  {
   "cell_type": "markdown",
   "id": "80c311b2",
   "metadata": {},
   "source": [
    "#### Libraries for Python Data Analysis"
   ]
  },
  {
   "cell_type": "markdown",
   "id": "ab122272",
   "metadata": {},
   "source": [
    "Pandas, Numpy, Scipy, Matplotlib and Seaborn are essential python libraries used for data analysis.\n",
    "\n",
    "Numerical computations for arrays and multidimensional matrices in data analysis are often done with the Numeric Python library - NUMPY.\n",
    "\n",
    "PANDAS is a toolkit built on NumPy with data structures called DATAFRAMES; used on numerical and time-series data for quick and easy data manipulation, cleaning and analysis.\n",
    "\n",
    "SCIPY can be described as a scientific package that uses NumPy arrays as its basic data structure.\n",
    "\n",
    "MATPLOTLIB and SEABORN are plotting libraries capable of handling large datasets and producing both interactive and statistical graphics."
   ]
  },
  {
   "cell_type": "markdown",
   "id": "f3f98174",
   "metadata": {},
   "source": [
    "# 002_Numpy Array And Vectorization"
   ]
  },
  {
   "cell_type": "markdown",
   "id": "cb7c9a7b",
   "metadata": {},
   "source": [
    "#### Introduction to NumPy & Creating Arrays."
   ]
  },
  {
   "cell_type": "markdown",
   "id": "82a89cba",
   "metadata": {},
   "source": [
    "As mentiones previously, NumPy is a library that has ndarray as its basic data structure used to handle arrays and matrices. NumPy arrays has a grid of values all of which are of the same data type, mostly integers and floats. These arrays can also be created from Python lists.\n",
    "\n",
    "Below are some examples:"
   ]
  },
  {
   "cell_type": "code",
   "execution_count": 1,
   "id": "6b1edb40",
   "metadata": {},
   "outputs": [],
   "source": [
    "# Convention for importing numpy\n",
    "\n",
    "import numpy as np"
   ]
  },
  {
   "cell_type": "code",
   "execution_count": 2,
   "id": "4f528247",
   "metadata": {},
   "outputs": [
    {
     "name": "stdout",
     "output_type": "stream",
     "text": [
      "<class 'list'>\n"
     ]
    }
   ],
   "source": [
    "arr = [6,7,8,9]\n",
    "print(type(arr))"
   ]
  },
  {
   "cell_type": "markdown",
   "id": "4a8446c2",
   "metadata": {},
   "source": [
    "Lists are one of 4 built-in data types in Python used to store collections of data( multiple items in a single variable), the other 3 are Tuple, Set, and Dictionary, all with different qualities and usage.\n",
    "\n",
    "Lists are created using square brackets[]. "
   ]
  },
  {
   "cell_type": "code",
   "execution_count": 3,
   "id": "99b3cb5b",
   "metadata": {},
   "outputs": [
    {
     "name": "stdout",
     "output_type": "stream",
     "text": [
      "[6 7 8 9]\n",
      "<class 'numpy.ndarray'>\n",
      " (4,), -a is a 1d array with 4 items\n",
      "int32\n",
      "1\n"
     ]
    }
   ],
   "source": [
    "# To convert list to numpy array\n",
    "\n",
    "a = np.array(arr)\n",
    "print(a)\n",
    "print(type(a))\n",
    "print(f\" {a.shape}, -a is a 1d array with {a.shape[0]} items\" )\n",
    "print(a.dtype)\n",
    "\n",
    "#To get the dimension of a with ndim\n",
    "print(a.ndim)"
   ]
  },
  {
   "cell_type": "code",
   "execution_count": 4,
   "id": "a48d3854",
   "metadata": {},
   "outputs": [
    {
     "name": "stdout",
     "output_type": "stream",
     "text": [
      "[[1 2 3]\n",
      " [4 5 6]]\n",
      "2\n",
      "(2, 3), -b is a 2d array with 2rows and 3columns\n"
     ]
    }
   ],
   "source": [
    "b = np.array([[1,2,3], [4,5,6]])\n",
    "print(b)\n",
    "print(b.ndim)\n",
    "print(f\"{b.shape}, -b is a {b.ndim}d array with {b.shape[0]}rows and {b.shape[1]}columns\")"
   ]
  },
  {
   "cell_type": "markdown",
   "id": "372f1f2a",
   "metadata": {},
   "source": [
    "There are also some inbuilt functions that can be used to initialize numpy which include empty(), zeros(), ones(), full(), random.random()."
   ]
  },
  {
   "cell_type": "code",
   "execution_count": 5,
   "id": "70a712e4",
   "metadata": {},
   "outputs": [
    {
     "data": {
      "text/plain": [
       "array([[0.51993007, 0.44842564, 0.15928139],\n",
       "       [0.91412601, 0.14065568, 0.68196804]])"
      ]
     },
     "execution_count": 5,
     "metadata": {},
     "output_type": "execute_result"
    }
   ],
   "source": [
    "# To generate a 2rows_3columns(2x3)array with random values\n",
    "np.random.random((2,3))"
   ]
  },
  {
   "cell_type": "code",
   "execution_count": 6,
   "id": "a7717b81",
   "metadata": {},
   "outputs": [
    {
     "data": {
      "text/plain": [
       "array([[0., 0., 0.],\n",
       "       [0., 0., 0.]])"
      ]
     },
     "execution_count": 6,
     "metadata": {},
     "output_type": "execute_result"
    }
   ],
   "source": [
    "# To generate 2x3 arrays with zeros\n",
    "np.zeros((2,3))"
   ]
  },
  {
   "cell_type": "code",
   "execution_count": 7,
   "id": "e8e4c1aa",
   "metadata": {},
   "outputs": [
    {
     "data": {
      "text/plain": [
       "array([[1., 1., 1.],\n",
       "       [1., 1., 1.]])"
      ]
     },
     "execution_count": 7,
     "metadata": {},
     "output_type": "execute_result"
    }
   ],
   "source": [
    "# To generate 2x3 arrays with ones\n",
    "np.ones((2,3))"
   ]
  },
  {
   "cell_type": "code",
   "execution_count": 8,
   "id": "241aa3b7",
   "metadata": {},
   "outputs": [
    {
     "data": {
      "text/plain": [
       "array([[1., 0., 0.],\n",
       "       [0., 1., 0.],\n",
       "       [0., 0., 1.]])"
      ]
     },
     "execution_count": 8,
     "metadata": {},
     "output_type": "execute_result"
    }
   ],
   "source": [
    "#To generate 3x3 identity matrix\n",
    "np.identity(3)"
   ]
  },
  {
   "cell_type": "code",
   "execution_count": 9,
   "id": "d0b7f773",
   "metadata": {},
   "outputs": [
    {
     "data": {
      "text/plain": [
       "array([[7, 7, 7],\n",
       "       [7, 7, 7]])"
      ]
     },
     "execution_count": 9,
     "metadata": {},
     "output_type": "execute_result"
    }
   ],
   "source": [
    "#To generate 2x3 arrays full of 7\n",
    "np.full((2,3), 7)"
   ]
  },
  {
   "cell_type": "code",
   "execution_count": 10,
   "id": "918318b3",
   "metadata": {},
   "outputs": [
    {
     "data": {
      "text/plain": [
       "array([[1.02405275e-259, 2.60658458e+214],\n",
       "       [4.57668639e-072, 5.94484328e-096]])"
      ]
     },
     "execution_count": 10,
     "metadata": {},
     "output_type": "execute_result"
    }
   ],
   "source": [
    "np.empty((2,2))"
   ]
  },
  {
   "cell_type": "code",
   "execution_count": 11,
   "id": "6ab2a276",
   "metadata": {},
   "outputs": [
    {
     "name": "stdout",
     "output_type": "stream",
     "text": [
      "[ 1.29619797e+238 -2.02442286e-059]\n",
      "###########################################\n",
      "[[1.02405275e-259 2.60658458e+214]\n",
      " [4.57668639e-072 5.94484328e-096]]\n",
      "###########################################\n",
      "[[         0 1072693248          0]\n",
      " [1072693248          0 1072693248]]\n",
      "###########################################\n",
      "[[1. 1. 1.]\n",
      " [1. 1. 1.]]\n"
     ]
    }
   ],
   "source": [
    "#The empty() function is used to create a new array of given shape and type, without initializing entries.\n",
    "#Examples:\n",
    "print(np.empty(2))\n",
    "print(\"###########################################\")\n",
    "print(np.empty([2,2]))\n",
    "print(\"###########################################\")\n",
    "print(np.empty([2,3], dtype=int))\n",
    "print(\"###########################################\")\n",
    "print(np.empty([2,3], dtype=float))"
   ]
  },
  {
   "cell_type": "code",
   "execution_count": 12,
   "id": "ea139c51",
   "metadata": {},
   "outputs": [],
   "source": [
    " ##FUNCTION\t         ##DESCRIPTION\n",
    "#abs()\t           Returns the absolute value of a number\n",
    "#all()\t           Returns True if all items in an iterable object are true\n",
    "#any()\t           Returns True if any item in an iterable object is true\n",
    "#ascii()\t           Returns a readable version of an object. Replaces none-ascii characters with escape character\n",
    "#bin()\t           Returns the binary version of a number\n",
    "#bool()\t           Returns the boolean value of the specified object\n",
    "#bytearray()\t       Returns an array of bytes\n",
    "#bytes()\t           Returns a bytes object\n",
    "#callable()\t       Returns True if the specified object is callable, otherwise False\n",
    "#chr()\t           Returns a character from the specified Unicode code.\n",
    "#classmethod()\t   Converts a method into a class method\n",
    "#compile()\t       Returns the specified source as an object, ready to be executed\n",
    "#complex()\t       Returns a complex number\n",
    "#delattr()\t       Deletes the specified attribute (property or method) from the specified object\n",
    "#dict()\t           Returns a dictionary (Array)\n",
    "#dir()\t           Returns a list of the specified object's properties and methods\n",
    "#divmod()\t       Returns the quotient and the remainder when argument1 is divided by argument2\n",
    "#enumerate()\t       Takes a collection (e.g. a tuple) and returns it as an enumerate object\n",
    "#eval()\t           Evaluates and executes an expression\n",
    "#exec()\t           Executes the specified code (or object)\n",
    "#filter()\t       Use a filter function to exclude items in an iterable object\n",
    "#float()\t           Returns a floating point number\n",
    "#format()\t       Formats a specified value\n",
    "#frozenset()\t       Returns a frozenset object\n",
    "#getattr()\t       Returns the value of the specified attribute (property or method)\n",
    "#globals()\t       Returns the current global symbol table as a dictionary\n",
    "#hasattr()\t       Returns True if the specified object has the specified attribute (property/method)\n",
    "#hash()\t           Returns the hash value of a specified object\n",
    "#help()\t           Executes the built-in help system\n",
    "#hex()          \t   Converts a number into a hexadecimal value\n",
    "#id()\t           Returns the id of an object\n",
    "#input()        \t   Allowing user input\n",
    "#int()\t           Returns an integer number\n",
    "#isinstance()\t   Returns True if a specified object is an instance of a specified object\n",
    "#issubclass()\t   Returns True if a specified class is a subclass of a specified object\n",
    "#iter()\t           Returns an iterator object\n",
    "#len()\t           Returns the length of an object\n",
    "#list()\t           Returns a list\n",
    "#locals()\t       Returns an updated dictionary of the current local symbol table\n",
    "#map()\t           Returns the specified iterator with the specified function applied to each item\n",
    "#max()\t           Returns the largest item in an iterable\n",
    "#memoryview()\t   Returns a memory view object\n",
    "#min()\t           Returns the smallest item in an iterable\n",
    "#next()\t           Returns the next item in an iterable\n",
    "#object()\t       Returns a new object\n",
    "#oct()\t           Converts a number into an octal\n",
    "#open()\t           Opens a file and returns a file object\n",
    "#ord()\t           Convert an integer representing the Unicode of the specified character\n",
    "#pow()\t           Returns the value of x to the power of y\n",
    "#print()  \t       Prints to the standard output device\n",
    "#property()\t       Gets, sets, deletes a property\n",
    "#range()\t           Returns a sequence of numbers, starting from 0 and increments by 1 (by default)\n",
    "#repr()\t           Returns a readable version of an object\n",
    "#reversed()\t       Returns a reversed iterator\n",
    "#round()\t           Rounds a numbers\n",
    "#set()\t           Returns a new set object\n",
    "#setattr()\t       Sets an attribute (property/method) of an object\n",
    "#slice()\t           Returns a slice object\n",
    "#sorted()\t       Returns a sorted list\n",
    "#staticmethod()     Converts a method into a static method\n",
    "#str()\t           Returns a string object\n",
    "#sum()\t           Sums the items of an iterator\n",
    "#super()\t           Returns an object that represents the parent class\n",
    "#tuple()\t           Returns a tuple\n",
    "#type()\t           Returns the type of an object\n",
    "#vars()\t           Returns the __dict__ property of an object\n",
    "#zip()\t           Returns an iterator, from two or more iterators"
   ]
  },
  {
   "cell_type": "markdown",
   "id": "429da232",
   "metadata": {},
   "source": [
    "#### Intra-operability of Arrays and Scalars."
   ]
  },
  {
   "cell_type": "markdown",
   "id": "10aa7c84",
   "metadata": {},
   "source": [
    "Vectorizationin numpy arrays allows for faster processing by eliminating for loops when dealing with arrays of equal shape. This allows for batch arithmetic operations on the arrays by applying the operator elementwise.  Similarly, scalars are also propagated element-wise across an array. For arrays with different sizes, it is impossible to perform element-wise operations instead; numpy handles this by broadcasting provided the dimensions of the arrays are the same or, one of the dimensions of the array is 1."
   ]
  },
  {
   "cell_type": "code",
   "execution_count": 13,
   "id": "b3415a4c",
   "metadata": {},
   "outputs": [
    {
     "name": "stdout",
     "output_type": "stream",
     "text": [
      "addition of  cand d is: \n",
      " [[13. 13. 13.]\n",
      " [ 8. 10. 12.]]\n",
      "multiplication of c and d is: \n",
      " [[36. 40. 42.]\n",
      " [ 7. 16. 27.]]\n",
      "To divide 5 by d, we have: \n",
      " [[1.25       1.         0.83333333]\n",
      " [0.71428571 0.625      0.55555556]]\n",
      "Calculating the exponential of c by 2, we have: \n",
      " [[81. 64. 49.]\n",
      " [ 1.  4.  9.]]\n"
     ]
    }
   ],
   "source": [
    "c = np.array([[9.0,8.0,7.0],[1.0,2.0,3.0]])\n",
    "d = np.array([[4.0,5.0,6.0],[7.0,8.0,9.0]])\n",
    "\n",
    "print(f\"addition of  cand d is: \\n {c+d}\")\n",
    "print(f\"multiplication of c and d is: \\n {c*d}\")\n",
    "print(f\"To divide 5 by d, we have: \\n {5/d}\")\n",
    "print(f\"Calculating the exponential of c by 2, we have: \\n {c**2}\")"
   ]
  },
  {
   "cell_type": "markdown",
   "id": "e649a647",
   "metadata": {},
   "source": [
    "#### Indexing With Arrays & Using Arrays for Data Processing"
   ]
  },
  {
   "cell_type": "markdown",
   "id": "a7fd68ae",
   "metadata": {},
   "source": [
    "INDEXING: To access elements in an array"
   ]
  },
  {
   "cell_type": "code",
   "execution_count": 14,
   "id": "f3f191ba",
   "metadata": {},
   "outputs": [
    {
     "name": "stdout",
     "output_type": "stream",
     "text": [
      "6\n",
      "9\n",
      "9\n",
      "1\n",
      "6\n",
      "8.0\n"
     ]
    }
   ],
   "source": [
    "print(a[0])\n",
    "print(a[3])\n",
    "print(a[-1])\n",
    "print(b[0,0])\n",
    "print(b[1,2])\n",
    "print(c[0,1])"
   ]
  },
  {
   "cell_type": "markdown",
   "id": "f2aa5ab6",
   "metadata": {},
   "source": [
    "SLICING:  is a feature that enables accessing PARTS of sequences like strings, tuples, and lists"
   ]
  },
  {
   "cell_type": "code",
   "execution_count": 15,
   "id": "8ac59db1",
   "metadata": {},
   "outputs": [
    {
     "name": "stdout",
     "output_type": "stream",
     "text": [
      "[7. 8.]\n"
     ]
    },
    {
     "data": {
      "text/plain": [
       "array([[10, 11],\n",
       "       [13, 14],\n",
       "       [16, 17]])"
      ]
     },
     "execution_count": 15,
     "metadata": {},
     "output_type": "execute_result"
    }
   ],
   "source": [
    "print(d[1, 0:2])\n",
    "\n",
    "e = np.array([[10,11,12],[13,14,15],[16,17,18],[19,20,21]])\n",
    "\n",
    "#Slicing\n",
    "e[:3, :2]"
   ]
  },
  {
   "cell_type": "code",
   "execution_count": 16,
   "id": "353c3a3c",
   "metadata": {},
   "outputs": [
    {
     "data": {
      "text/plain": [
       "array([18, 11, 19, 15])"
      ]
     },
     "execution_count": 16,
     "metadata": {},
     "output_type": "execute_result"
    }
   ],
   "source": [
    "#integer indexing\n",
    "e[[2,0,3,1],[2,1,0,2]]"
   ]
  },
  {
   "cell_type": "code",
   "execution_count": 17,
   "id": "77a2668c",
   "metadata": {},
   "outputs": [
    {
     "data": {
      "text/plain": [
       "array([16, 17, 18, 19, 20, 21])"
      ]
     },
     "execution_count": 17,
     "metadata": {},
     "output_type": "execute_result"
    }
   ],
   "source": [
    "#boolean indexing meeting a specified condition\n",
    "e[e>15]"
   ]
  },
  {
   "cell_type": "code",
   "execution_count": 18,
   "id": "51c3a29a",
   "metadata": {},
   "outputs": [
    {
     "data": {
      "text/plain": [
       "2"
      ]
     },
     "execution_count": 18,
     "metadata": {},
     "output_type": "execute_result"
    }
   ],
   "source": [
    "e.ndim"
   ]
  },
  {
   "cell_type": "markdown",
   "id": "c9802db8",
   "metadata": {},
   "source": [
    "Numpy also has inbuilt mathematical functions like sum(), mean(), std(), corrcoef(), min() and others. It interestingly allows for comparing arrays using == to check if two arrays have the same elements,  elements in the first array are greater than or less than those of the second array using  > and  <."
   ]
  },
  {
   "cell_type": "code",
   "execution_count": 19,
   "id": "5c6954b4",
   "metadata": {},
   "outputs": [
    {
     "data": {
      "text/plain": [
       "array([10., 10., 10.])"
      ]
     },
     "execution_count": 19,
     "metadata": {},
     "output_type": "execute_result"
    }
   ],
   "source": [
    "sum(c)"
   ]
  },
  {
   "cell_type": "code",
   "execution_count": 20,
   "id": "4f2e4d3c",
   "metadata": {},
   "outputs": [
    {
     "data": {
      "text/plain": [
       "30.0"
      ]
     },
     "execution_count": 20,
     "metadata": {},
     "output_type": "execute_result"
    }
   ],
   "source": [
    "np.sum(c)"
   ]
  },
  {
   "cell_type": "code",
   "execution_count": 21,
   "id": "08b7137a",
   "metadata": {},
   "outputs": [
    {
     "data": {
      "text/plain": [
       "9.0"
      ]
     },
     "execution_count": 21,
     "metadata": {},
     "output_type": "execute_result"
    }
   ],
   "source": [
    "d.max()"
   ]
  },
  {
   "cell_type": "code",
   "execution_count": 22,
   "id": "cbcc49ff",
   "metadata": {},
   "outputs": [
    {
     "data": {
      "text/plain": [
       "9.0"
      ]
     },
     "execution_count": 22,
     "metadata": {},
     "output_type": "execute_result"
    }
   ],
   "source": [
    "np.max(d)"
   ]
  },
  {
   "cell_type": "code",
   "execution_count": 23,
   "id": "8dc47389",
   "metadata": {},
   "outputs": [
    {
     "data": {
      "text/plain": [
       "4.0"
      ]
     },
     "execution_count": 23,
     "metadata": {},
     "output_type": "execute_result"
    }
   ],
   "source": [
    "d.min()"
   ]
  },
  {
   "cell_type": "code",
   "execution_count": 24,
   "id": "bf1f1cff",
   "metadata": {},
   "outputs": [
    {
     "data": {
      "text/plain": [
       "4.0"
      ]
     },
     "execution_count": 24,
     "metadata": {},
     "output_type": "execute_result"
    }
   ],
   "source": [
    "np.min(d)"
   ]
  },
  {
   "cell_type": "code",
   "execution_count": 25,
   "id": "828eca76",
   "metadata": {},
   "outputs": [
    {
     "data": {
      "text/plain": [
       "5.0"
      ]
     },
     "execution_count": 25,
     "metadata": {},
     "output_type": "execute_result"
    }
   ],
   "source": [
    "c.mean()"
   ]
  },
  {
   "cell_type": "code",
   "execution_count": 26,
   "id": "7a47bc36",
   "metadata": {},
   "outputs": [
    {
     "data": {
      "text/plain": [
       "5.0"
      ]
     },
     "execution_count": 26,
     "metadata": {},
     "output_type": "execute_result"
    }
   ],
   "source": [
    "np.mean(c)"
   ]
  },
  {
   "cell_type": "code",
   "execution_count": 27,
   "id": "d7ef3fa8",
   "metadata": {},
   "outputs": [
    {
     "data": {
      "text/plain": [
       "3.1091263510296048"
      ]
     },
     "execution_count": 27,
     "metadata": {},
     "output_type": "execute_result"
    }
   ],
   "source": [
    "c.std()"
   ]
  },
  {
   "cell_type": "code",
   "execution_count": 28,
   "id": "ea25ed47",
   "metadata": {},
   "outputs": [
    {
     "data": {
      "text/plain": [
       "3.1091263510296048"
      ]
     },
     "execution_count": 28,
     "metadata": {},
     "output_type": "execute_result"
    }
   ],
   "source": [
    "np.std(c)"
   ]
  },
  {
   "cell_type": "code",
   "execution_count": 29,
   "id": "b1f94864",
   "metadata": {},
   "outputs": [
    {
     "data": {
      "text/plain": [
       "array([[ 1., -1., -1., -1.],\n",
       "       [-1.,  1.,  1.,  1.],\n",
       "       [-1.,  1.,  1.,  1.],\n",
       "       [-1.,  1.,  1.,  1.]])"
      ]
     },
     "execution_count": 29,
     "metadata": {},
     "output_type": "execute_result"
    }
   ],
   "source": [
    "np.corrcoef(c,d)"
   ]
  },
  {
   "cell_type": "code",
   "execution_count": 30,
   "id": "6451539a",
   "metadata": {},
   "outputs": [
    {
     "data": {
      "text/plain": [
       "array([[ 1., -1.],\n",
       "       [-1.,  1.]])"
      ]
     },
     "execution_count": 30,
     "metadata": {},
     "output_type": "execute_result"
    }
   ],
   "source": [
    "np.corrcoef(c)"
   ]
  },
  {
   "cell_type": "code",
   "execution_count": 31,
   "id": "f40bbbee",
   "metadata": {},
   "outputs": [
    {
     "data": {
      "text/plain": [
       "array([[1., 1.],\n",
       "       [1., 1.]])"
      ]
     },
     "execution_count": 31,
     "metadata": {},
     "output_type": "execute_result"
    }
   ],
   "source": [
    "np.corrcoef(d)"
   ]
  },
  {
   "cell_type": "code",
   "execution_count": 32,
   "id": "ba050ad2",
   "metadata": {},
   "outputs": [
    {
     "data": {
      "text/plain": [
       "array([False,  True, False])"
      ]
     },
     "execution_count": 32,
     "metadata": {},
     "output_type": "execute_result"
    }
   ],
   "source": [
    "c[0]==d[1]"
   ]
  },
  {
   "cell_type": "markdown",
   "id": "1d0321e0",
   "metadata": {},
   "source": [
    "#### File Input and Output With Arrays"
   ]
  },
  {
   "cell_type": "markdown",
   "id": "0e56ad2a",
   "metadata": {},
   "source": [
    "Numpy arrays can be loaded from and saved to binary files with .npy as the extension using load() and save() respectively. This can also be done with text files with text files using loadtxt() and savetxt()."
   ]
  },
  {
   "cell_type": "code",
   "execution_count": 33,
   "id": "0497a196",
   "metadata": {},
   "outputs": [],
   "source": [
    "#np.save('C:\\Users\\LENOVO T460S\\Documents\\Hamoye AI\\Data_Science_Track\\STAGE1_Intro_to_Python_for_ML\\LESSON1_PythonInML', np.array([[2,4,6],[8,10,12]]))\n",
    "#np.load('C:\\Users\\LENOVO T460S\\Documents\\Hamoye AI\\Data_Science_Track\\STAGE1_Intro_to_Python_for_ML\\LESSON1_PythonInML.npy')"
   ]
  },
  {
   "cell_type": "code",
   "execution_count": 34,
   "id": "583ee13c",
   "metadata": {},
   "outputs": [
    {
     "name": "stdout",
     "output_type": "stream",
     "text": [
      "[[0. 1. 2.]\n",
      " [3. 4. 5.]]\n"
     ]
    }
   ],
   "source": [
    "import numpy as geek\n",
    "  \n",
    "# StringIO behaves like a file object\n",
    "from io import StringIO   \n",
    "  \n",
    "c = StringIO(\"0 1 2 \\n3 4 5\")\n",
    "d = geek.loadtxt(c)\n",
    "  \n",
    "print(d)"
   ]
  },
  {
   "cell_type": "code",
   "execution_count": 35,
   "id": "4b0c3008",
   "metadata": {},
   "outputs": [
    {
     "name": "stdout",
     "output_type": "stream",
     "text": [
      "None\n"
     ]
    }
   ],
   "source": [
    "new_array = np.array([24, 15,27,38,15,16,25,38,485,15,16,15])\n",
    "result=np.savetxt('test9.txt', new_array, delimiter=',', fmt='%d')\n",
    "print(result)"
   ]
  },
  {
   "cell_type": "markdown",
   "id": "21a78098",
   "metadata": {},
   "source": [
    "# 003_Pandas - So Much More Than A Cute Animal"
   ]
  },
  {
   "cell_type": "markdown",
   "id": "da408372",
   "metadata": {},
   "source": [
    "#### Introducing Pandas data structures: Series, DataFrames and Index objects."
   ]
  },
  {
   "cell_type": "markdown",
   "id": "735a7d49",
   "metadata": {},
   "source": [
    "PANDAS is a library built on Numpy which is used for data manipulation, with other ways of indexing other than integers. Series, Dataframe, and index are the basic data structures in this library. Series in pandas can be referred to as a one dimensional array with homogenous elements of different types somewhat similar to numpy arrays; however, it can be indexed differently with specified descriptive labels or integers. "
   ]
  },
  {
   "cell_type": "code",
   "execution_count": 36,
   "id": "f1b07898",
   "metadata": {},
   "outputs": [],
   "source": [
    "# Convention for importing pandas\n",
    "\n",
    "import pandas as pd"
   ]
  },
  {
   "cell_type": "code",
   "execution_count": 37,
   "id": "f19fb19e",
   "metadata": {},
   "outputs": [
    {
     "name": "stdout",
     "output_type": "stream",
     "text": [
      "0       Monday\n",
      "1      Tuesday\n",
      "2    Wednesday\n",
      "dtype: object\n"
     ]
    }
   ],
   "source": [
    "days = pd.Series(['Monday', 'Tuesday', 'Wednesday'])\n",
    "print(days)"
   ]
  },
  {
   "cell_type": "code",
   "execution_count": 38,
   "id": "021435f9",
   "metadata": {},
   "outputs": [
    {
     "name": "stdout",
     "output_type": "stream",
     "text": [
      "['Monday' 'Tuesday' 'Wednesday']\n",
      "0       Monday\n",
      "1      Tuesday\n",
      "2    Wednesday\n",
      "dtype: object\n"
     ]
    }
   ],
   "source": [
    "days_list = np.array(['Monday', 'Tuesday','Wednesday'])\n",
    "print(days_list)\n",
    "\n",
    "numpy_days = pd.Series(days_list)\n",
    "print(numpy_days)"
   ]
  },
  {
   "cell_type": "code",
   "execution_count": 39,
   "id": "798a02a9",
   "metadata": {},
   "outputs": [
    {
     "name": "stdout",
     "output_type": "stream",
     "text": [
      "a       Monday\n",
      "b      Tuesday\n",
      "c    Wednesday\n",
      "dtype: object\n",
      "a       Monday\n",
      "b      Tuesday\n",
      "c    Wednesday\n",
      "dtype: object\n"
     ]
    }
   ],
   "source": [
    "# Using strings as index\n",
    "\n",
    "days = pd.Series(['Monday','Tuesday','Wednesday'],index=['a','b','c'])\n",
    "print(days)\n",
    "\n",
    "days1 = pd.Series({'a':'Monday','b':'Tuesday','c':'Wednesday'})\n",
    "print(days1)"
   ]
  },
  {
   "cell_type": "code",
   "execution_count": 40,
   "id": "1c078246",
   "metadata": {},
   "outputs": [
    {
     "name": "stdout",
     "output_type": "stream",
     "text": [
      "Monday\n",
      "b      Tuesday\n",
      "c    Wednesday\n",
      "dtype: object\n",
      "Wednesday\n"
     ]
    }
   ],
   "source": [
    "#Series can be accessed using the specified index as shown below\n",
    "\n",
    "print(days[0]) \n",
    "print(days[1:])\n",
    "print(days['c'])"
   ]
  },
  {
   "cell_type": "code",
   "execution_count": 41,
   "id": "5a360142",
   "metadata": {},
   "outputs": [
    {
     "data": {
      "text/plain": [
       "'Tuesday'"
      ]
     },
     "execution_count": 41,
     "metadata": {},
     "output_type": "execute_result"
    }
   ],
   "source": [
    "days1['b']"
   ]
  },
  {
   "cell_type": "markdown",
   "id": "27583dba",
   "metadata": {},
   "source": [
    "A DataFrame can be described as a table (2 dimensions) made up of many series with the same index. It holds data in rows and columns just like a spreadsheet. Series, dictionaries, lists, other dataframes, and numpy arrays can be used to create new ones."
   ]
  },
  {
   "cell_type": "code",
   "execution_count": 42,
   "id": "33c23e10",
   "metadata": {},
   "outputs": [
    {
     "name": "stdout",
     "output_type": "stream",
     "text": [
      "Empty DataFrame\n",
      "Columns: []\n",
      "Index: []\n"
     ]
    }
   ],
   "source": [
    "print(pd.DataFrame())"
   ]
  },
  {
   "cell_type": "code",
   "execution_count": 43,
   "id": "2ca9fb06",
   "metadata": {},
   "outputs": [
    {
     "data": {
      "text/html": [
       "<div>\n",
       "<style scoped>\n",
       "    .dataframe tbody tr th:only-of-type {\n",
       "        vertical-align: middle;\n",
       "    }\n",
       "\n",
       "    .dataframe tbody tr th {\n",
       "        vertical-align: top;\n",
       "    }\n",
       "\n",
       "    .dataframe thead th {\n",
       "        text-align: right;\n",
       "    }\n",
       "</style>\n",
       "<table border=\"1\" class=\"dataframe\">\n",
       "  <thead>\n",
       "    <tr style=\"text-align: right;\">\n",
       "      <th></th>\n",
       "      <th>Country</th>\n",
       "      <th>Capital</th>\n",
       "      <th>Population</th>\n",
       "      <th>Age</th>\n",
       "    </tr>\n",
       "  </thead>\n",
       "  <tbody>\n",
       "    <tr>\n",
       "      <th>2</th>\n",
       "      <td>Ghana</td>\n",
       "      <td>Accra</td>\n",
       "      <td>10000</td>\n",
       "      <td>60</td>\n",
       "    </tr>\n",
       "    <tr>\n",
       "      <th>4</th>\n",
       "      <td>Kenya</td>\n",
       "      <td>Nairobi</td>\n",
       "      <td>8500</td>\n",
       "      <td>70</td>\n",
       "    </tr>\n",
       "    <tr>\n",
       "      <th>6</th>\n",
       "      <td>Nigeria</td>\n",
       "      <td>Abuja</td>\n",
       "      <td>35000</td>\n",
       "      <td>80</td>\n",
       "    </tr>\n",
       "    <tr>\n",
       "      <th>8</th>\n",
       "      <td>Togo</td>\n",
       "      <td>Lome</td>\n",
       "      <td>12000</td>\n",
       "      <td>75</td>\n",
       "    </tr>\n",
       "  </tbody>\n",
       "</table>\n",
       "</div>"
      ],
      "text/plain": [
       "   Country  Capital  Population  Age\n",
       "2    Ghana    Accra       10000   60\n",
       "4    Kenya  Nairobi        8500   70\n",
       "6  Nigeria    Abuja       35000   80\n",
       "8     Togo     Lome       12000   75"
      ]
     },
     "execution_count": 43,
     "metadata": {},
     "output_type": "execute_result"
    }
   ],
   "source": [
    "# Creating a dataFrame from a dictionary\n",
    "\n",
    "df_dict = {'Country':['Ghana','Kenya','Nigeria','Togo'], 'Capital':['Accra','Nairobi','Abuja','Lome'], 'Population':[10000, 8500, 35000, 12000], 'Age':[60,70,80,75]}\n",
    "df = pd.DataFrame(df_dict, index=[2,4,6,8])\n",
    "df"
   ]
  },
  {
   "cell_type": "code",
   "execution_count": 44,
   "id": "f6463fa4",
   "metadata": {},
   "outputs": [
    {
     "data": {
      "text/html": [
       "<div>\n",
       "<style scoped>\n",
       "    .dataframe tbody tr th:only-of-type {\n",
       "        vertical-align: middle;\n",
       "    }\n",
       "\n",
       "    .dataframe tbody tr th {\n",
       "        vertical-align: top;\n",
       "    }\n",
       "\n",
       "    .dataframe thead th {\n",
       "        text-align: right;\n",
       "    }\n",
       "</style>\n",
       "<table border=\"1\" class=\"dataframe\">\n",
       "  <thead>\n",
       "    <tr style=\"text-align: right;\">\n",
       "      <th></th>\n",
       "      <th>Country</th>\n",
       "      <th>Capital</th>\n",
       "      <th>Population</th>\n",
       "      <th>Age</th>\n",
       "    </tr>\n",
       "  </thead>\n",
       "  <tbody>\n",
       "    <tr>\n",
       "      <th>2</th>\n",
       "      <td>Ghana</td>\n",
       "      <td>Accra</td>\n",
       "      <td>10000</td>\n",
       "      <td>60</td>\n",
       "    </tr>\n",
       "    <tr>\n",
       "      <th>4</th>\n",
       "      <td>Kenya</td>\n",
       "      <td>Nairobi</td>\n",
       "      <td>8500</td>\n",
       "      <td>70</td>\n",
       "    </tr>\n",
       "    <tr>\n",
       "      <th>6</th>\n",
       "      <td>Nigeria</td>\n",
       "      <td>Abuja</td>\n",
       "      <td>35000</td>\n",
       "      <td>80</td>\n",
       "    </tr>\n",
       "    <tr>\n",
       "      <th>8</th>\n",
       "      <td>Togo</td>\n",
       "      <td>Lome</td>\n",
       "      <td>12000</td>\n",
       "      <td>75</td>\n",
       "    </tr>\n",
       "  </tbody>\n",
       "</table>\n",
       "</div>"
      ],
      "text/plain": [
       "   Country  Capital  Population  Age\n",
       "2    Ghana    Accra       10000   60\n",
       "4    Kenya  Nairobi        8500   70\n",
       "6  Nigeria    Abuja       35000   80\n",
       "8     Togo     Lome       12000   75"
      ]
     },
     "execution_count": 44,
     "metadata": {},
     "output_type": "execute_result"
    }
   ],
   "source": [
    "# Creating a dataFrame from a list\n",
    "\n",
    "df_list = [['Ghana','Accra',10000,60],['Kenya','Nairobi',8500,70],['Nigeria','Abuja',35000,80],['Togo','Lome',12000,75]]\n",
    "df1= pd.DataFrame(df_list,columns=['Country','Capital','Population','Age'],index=[2,4,6,8])\n",
    "df1"
   ]
  },
  {
   "cell_type": "markdown",
   "id": "c894f213",
   "metadata": {},
   "source": [
    "at, iat, iloc and loc are accessors used to retrieve data in dataframes. iloc selects values from the rows and columns by using integer index to locate positions, while loc selects rows or columns using labels. at and iat are used to retrieve single values such that at uses the column and row labels and iat uses indices."
   ]
  },
  {
   "cell_type": "code",
   "execution_count": 45,
   "id": "17080953",
   "metadata": {},
   "outputs": [
    {
     "data": {
      "text/plain": [
       "Country        Togo\n",
       "Capital        Lome\n",
       "Population    12000\n",
       "Age              75\n",
       "Name: 8, dtype: object"
      ]
     },
     "execution_count": 45,
     "metadata": {},
     "output_type": "execute_result"
    }
   ],
   "source": [
    "# To select the row in the index 3\n",
    "\n",
    "df.iloc[3] "
   ]
  },
  {
   "cell_type": "code",
   "execution_count": 46,
   "id": "1c2d3c91",
   "metadata": {},
   "outputs": [
    {
     "data": {
      "text/plain": [
       "Country        Togo\n",
       "Capital        Lome\n",
       "Population    12000\n",
       "Age              75\n",
       "Name: 8, dtype: object"
      ]
     },
     "execution_count": 46,
     "metadata": {},
     "output_type": "execute_result"
    }
   ],
   "source": [
    "# To select row with index LEBELED 8\n",
    "\n",
    "df.loc[8]"
   ]
  },
  {
   "cell_type": "code",
   "execution_count": 47,
   "id": "edb1b0cb",
   "metadata": {},
   "outputs": [
    {
     "data": {
      "text/plain": [
       "2      Accra\n",
       "4    Nairobi\n",
       "6      Abuja\n",
       "8       Lome\n",
       "Name: Capital, dtype: object"
      ]
     },
     "execution_count": 47,
     "metadata": {},
     "output_type": "execute_result"
    }
   ],
   "source": [
    "# To select the Capital column\n",
    "df['Capital']"
   ]
  },
  {
   "cell_type": "code",
   "execution_count": 48,
   "id": "19fc3201",
   "metadata": {},
   "outputs": [
    {
     "data": {
      "text/plain": [
       "'Nigeria'"
      ]
     },
     "execution_count": 48,
     "metadata": {},
     "output_type": "execute_result"
    }
   ],
   "source": [
    "# To select the country at index LABELED 6\n",
    "df.at[6,'Country']"
   ]
  },
  {
   "cell_type": "code",
   "execution_count": 49,
   "id": "a008e922",
   "metadata": {},
   "outputs": [
    {
     "data": {
      "text/plain": [
       "'Nigeria'"
      ]
     },
     "execution_count": 49,
     "metadata": {},
     "output_type": "execute_result"
    }
   ],
   "source": [
    "# To select the country at index 2\n",
    "df.iat[2,0]"
   ]
  },
  {
   "cell_type": "markdown",
   "id": "f7097f61",
   "metadata": {},
   "source": [
    "Similar to Numpy, Pandas has some functions that provide descriptive statistics such as the measures of central tendency, dispersion, skewness and kurtosis, correlation and multicollinearity. Some functions are mode(), median(), mean(), sum(), std(), var(), skew(), kurt() and min(). The describe function gives the summary  of the numeric columns in a dataframe displaying count, mean, standard deviation, interquartile range, minimum and maximum values."
   ]
  },
  {
   "cell_type": "code",
   "execution_count": 50,
   "id": "96cfc8a4",
   "metadata": {},
   "outputs": [
    {
     "data": {
      "text/plain": [
       "65500"
      ]
     },
     "execution_count": 50,
     "metadata": {},
     "output_type": "execute_result"
    }
   ],
   "source": [
    "df['Population'].sum()"
   ]
  },
  {
   "cell_type": "code",
   "execution_count": 51,
   "id": "35f5c69f",
   "metadata": {},
   "outputs": [
    {
     "name": "stderr",
     "output_type": "stream",
     "text": [
      "C:\\Users\\LENOVO~1\\AppData\\Local\\Temp/ipykernel_4360/3698961737.py:1: FutureWarning: Dropping of nuisance columns in DataFrame reductions (with 'numeric_only=None') is deprecated; in a future version this will raise TypeError.  Select only valid columns before calling the reduction.\n",
      "  df.mean()\n"
     ]
    },
    {
     "data": {
      "text/plain": [
       "Population    16375.00\n",
       "Age              71.25\n",
       "dtype: float64"
      ]
     },
     "execution_count": 51,
     "metadata": {},
     "output_type": "execute_result"
    }
   ],
   "source": [
    "df.mean()"
   ]
  },
  {
   "cell_type": "code",
   "execution_count": 52,
   "id": "33d3ad88",
   "metadata": {},
   "outputs": [
    {
     "data": {
      "text/html": [
       "<div>\n",
       "<style scoped>\n",
       "    .dataframe tbody tr th:only-of-type {\n",
       "        vertical-align: middle;\n",
       "    }\n",
       "\n",
       "    .dataframe tbody tr th {\n",
       "        vertical-align: top;\n",
       "    }\n",
       "\n",
       "    .dataframe thead th {\n",
       "        text-align: right;\n",
       "    }\n",
       "</style>\n",
       "<table border=\"1\" class=\"dataframe\">\n",
       "  <thead>\n",
       "    <tr style=\"text-align: right;\">\n",
       "      <th></th>\n",
       "      <th>Population</th>\n",
       "      <th>Age</th>\n",
       "    </tr>\n",
       "  </thead>\n",
       "  <tbody>\n",
       "    <tr>\n",
       "      <th>count</th>\n",
       "      <td>4.000000</td>\n",
       "      <td>4.000000</td>\n",
       "    </tr>\n",
       "    <tr>\n",
       "      <th>mean</th>\n",
       "      <td>16375.000000</td>\n",
       "      <td>71.250000</td>\n",
       "    </tr>\n",
       "    <tr>\n",
       "      <th>std</th>\n",
       "      <td>12499.166639</td>\n",
       "      <td>8.539126</td>\n",
       "    </tr>\n",
       "    <tr>\n",
       "      <th>min</th>\n",
       "      <td>8500.000000</td>\n",
       "      <td>60.000000</td>\n",
       "    </tr>\n",
       "    <tr>\n",
       "      <th>25%</th>\n",
       "      <td>9625.000000</td>\n",
       "      <td>67.500000</td>\n",
       "    </tr>\n",
       "    <tr>\n",
       "      <th>50%</th>\n",
       "      <td>11000.000000</td>\n",
       "      <td>72.500000</td>\n",
       "    </tr>\n",
       "    <tr>\n",
       "      <th>75%</th>\n",
       "      <td>17750.000000</td>\n",
       "      <td>76.250000</td>\n",
       "    </tr>\n",
       "    <tr>\n",
       "      <th>max</th>\n",
       "      <td>35000.000000</td>\n",
       "      <td>80.000000</td>\n",
       "    </tr>\n",
       "  </tbody>\n",
       "</table>\n",
       "</div>"
      ],
      "text/plain": [
       "         Population        Age\n",
       "count      4.000000   4.000000\n",
       "mean   16375.000000  71.250000\n",
       "std    12499.166639   8.539126\n",
       "min     8500.000000  60.000000\n",
       "25%     9625.000000  67.500000\n",
       "50%    11000.000000  72.500000\n",
       "75%    17750.000000  76.250000\n",
       "max    35000.000000  80.000000"
      ]
     },
     "execution_count": 52,
     "metadata": {},
     "output_type": "execute_result"
    }
   ],
   "source": [
    "df.describe()"
   ]
  },
  {
   "cell_type": "markdown",
   "id": "19362711",
   "metadata": {},
   "source": [
    "The missing data enigma: Importance, types and handling missing data.\n",
    "Often, data used for analysis in real life scenarios is incomplete as a result of omission, faulty devices, and many other factors. Pandas represent missing values as NA or NaN which can be filled, removed, and detected with functions like fillna(), dropna(), isnull(), notnull(), replace().\n",
    "\n"
   ]
  },
  {
   "cell_type": "code",
   "execution_count": 53,
   "id": "37eef559",
   "metadata": {},
   "outputs": [
    {
     "data": {
      "text/html": [
       "<div>\n",
       "<style scoped>\n",
       "    .dataframe tbody tr th:only-of-type {\n",
       "        vertical-align: middle;\n",
       "    }\n",
       "\n",
       "    .dataframe tbody tr th {\n",
       "        vertical-align: top;\n",
       "    }\n",
       "\n",
       "    .dataframe thead th {\n",
       "        text-align: right;\n",
       "    }\n",
       "</style>\n",
       "<table border=\"1\" class=\"dataframe\">\n",
       "  <thead>\n",
       "    <tr style=\"text-align: right;\">\n",
       "      <th></th>\n",
       "      <th>Name</th>\n",
       "      <th>Profession</th>\n",
       "      <th>Experience</th>\n",
       "      <th>Height</th>\n",
       "    </tr>\n",
       "  </thead>\n",
       "  <tbody>\n",
       "    <tr>\n",
       "      <th>0</th>\n",
       "      <td>James</td>\n",
       "      <td>Researher</td>\n",
       "      <td>12.0</td>\n",
       "      <td>NaN</td>\n",
       "    </tr>\n",
       "    <tr>\n",
       "      <th>1</th>\n",
       "      <td>Yemen</td>\n",
       "      <td>Artist</td>\n",
       "      <td>NaN</td>\n",
       "      <td>175.0</td>\n",
       "    </tr>\n",
       "    <tr>\n",
       "      <th>2</th>\n",
       "      <td>Caro</td>\n",
       "      <td>Doctor</td>\n",
       "      <td>10.0</td>\n",
       "      <td>180.0</td>\n",
       "    </tr>\n",
       "    <tr>\n",
       "      <th>3</th>\n",
       "      <td>NaN</td>\n",
       "      <td>Writer</td>\n",
       "      <td>8.0</td>\n",
       "      <td>150.0</td>\n",
       "    </tr>\n",
       "  </tbody>\n",
       "</table>\n",
       "</div>"
      ],
      "text/plain": [
       "    Name Profession  Experience  Height\n",
       "0  James  Researher        12.0     NaN\n",
       "1  Yemen     Artist         NaN   175.0\n",
       "2   Caro     Doctor        10.0   180.0\n",
       "3    NaN     Writer         8.0   150.0"
      ]
     },
     "execution_count": 53,
     "metadata": {},
     "output_type": "execute_result"
    }
   ],
   "source": [
    "df_dict2 = {'Name':['James','Yemen','Caro',np.nan],'Profession':['Researher','Artist','Doctor','Writer'],'Experience':[12,np.nan,10,8],'Height':[np.nan,175,180,150]}\n",
    "new_df = pd.DataFrame(df_dict2)\n",
    "new_df"
   ]
  },
  {
   "cell_type": "code",
   "execution_count": 54,
   "id": "abaab777",
   "metadata": {},
   "outputs": [
    {
     "data": {
      "text/html": [
       "<div>\n",
       "<style scoped>\n",
       "    .dataframe tbody tr th:only-of-type {\n",
       "        vertical-align: middle;\n",
       "    }\n",
       "\n",
       "    .dataframe tbody tr th {\n",
       "        vertical-align: top;\n",
       "    }\n",
       "\n",
       "    .dataframe thead th {\n",
       "        text-align: right;\n",
       "    }\n",
       "</style>\n",
       "<table border=\"1\" class=\"dataframe\">\n",
       "  <thead>\n",
       "    <tr style=\"text-align: right;\">\n",
       "      <th></th>\n",
       "      <th>Name</th>\n",
       "      <th>Profession</th>\n",
       "      <th>Experience</th>\n",
       "      <th>Height</th>\n",
       "    </tr>\n",
       "  </thead>\n",
       "  <tbody>\n",
       "    <tr>\n",
       "      <th>0</th>\n",
       "      <td>False</td>\n",
       "      <td>False</td>\n",
       "      <td>False</td>\n",
       "      <td>True</td>\n",
       "    </tr>\n",
       "    <tr>\n",
       "      <th>1</th>\n",
       "      <td>False</td>\n",
       "      <td>False</td>\n",
       "      <td>True</td>\n",
       "      <td>False</td>\n",
       "    </tr>\n",
       "    <tr>\n",
       "      <th>2</th>\n",
       "      <td>False</td>\n",
       "      <td>False</td>\n",
       "      <td>False</td>\n",
       "      <td>False</td>\n",
       "    </tr>\n",
       "    <tr>\n",
       "      <th>3</th>\n",
       "      <td>True</td>\n",
       "      <td>False</td>\n",
       "      <td>False</td>\n",
       "      <td>False</td>\n",
       "    </tr>\n",
       "  </tbody>\n",
       "</table>\n",
       "</div>"
      ],
      "text/plain": [
       "    Name  Profession  Experience  Height\n",
       "0  False       False       False    True\n",
       "1  False       False        True   False\n",
       "2  False       False       False   False\n",
       "3   True       False       False   False"
      ]
     },
     "execution_count": 54,
     "metadata": {},
     "output_type": "execute_result"
    }
   ],
   "source": [
    "# Checking for cells with missing values as True\n",
    "new_df.isnull()"
   ]
  },
  {
   "cell_type": "code",
   "execution_count": 55,
   "id": "b2bcd6b2",
   "metadata": {},
   "outputs": [
    {
     "data": {
      "text/html": [
       "<div>\n",
       "<style scoped>\n",
       "    .dataframe tbody tr th:only-of-type {\n",
       "        vertical-align: middle;\n",
       "    }\n",
       "\n",
       "    .dataframe tbody tr th {\n",
       "        vertical-align: top;\n",
       "    }\n",
       "\n",
       "    .dataframe thead th {\n",
       "        text-align: right;\n",
       "    }\n",
       "</style>\n",
       "<table border=\"1\" class=\"dataframe\">\n",
       "  <thead>\n",
       "    <tr style=\"text-align: right;\">\n",
       "      <th></th>\n",
       "      <th>Name</th>\n",
       "      <th>Profession</th>\n",
       "      <th>Experience</th>\n",
       "      <th>Height</th>\n",
       "    </tr>\n",
       "  </thead>\n",
       "  <tbody>\n",
       "    <tr>\n",
       "      <th>2</th>\n",
       "      <td>Caro</td>\n",
       "      <td>Doctor</td>\n",
       "      <td>10.0</td>\n",
       "      <td>180.0</td>\n",
       "    </tr>\n",
       "  </tbody>\n",
       "</table>\n",
       "</div>"
      ],
      "text/plain": [
       "   Name Profession  Experience  Height\n",
       "2  Caro     Doctor        10.0   180.0"
      ]
     },
     "execution_count": 55,
     "metadata": {},
     "output_type": "execute_result"
    }
   ],
   "source": [
    "# Romove rows with missing values\n",
    "new_df.dropna()"
   ]
  },
  {
   "cell_type": "code",
   "execution_count": 56,
   "id": "a527ad1b",
   "metadata": {},
   "outputs": [
    {
     "data": {
      "text/html": [
       "<div>\n",
       "<style scoped>\n",
       "    .dataframe tbody tr th:only-of-type {\n",
       "        vertical-align: middle;\n",
       "    }\n",
       "\n",
       "    .dataframe tbody tr th {\n",
       "        vertical-align: top;\n",
       "    }\n",
       "\n",
       "    .dataframe thead th {\n",
       "        text-align: right;\n",
       "    }\n",
       "</style>\n",
       "<table border=\"1\" class=\"dataframe\">\n",
       "  <thead>\n",
       "    <tr style=\"text-align: right;\">\n",
       "      <th></th>\n",
       "      <th>Name</th>\n",
       "      <th>Profession</th>\n",
       "      <th>Experience</th>\n",
       "      <th>Height</th>\n",
       "    </tr>\n",
       "  </thead>\n",
       "  <tbody>\n",
       "    <tr>\n",
       "      <th>0</th>\n",
       "      <td>James</td>\n",
       "      <td>Researher</td>\n",
       "      <td>12.0</td>\n",
       "      <td>NaN</td>\n",
       "    </tr>\n",
       "    <tr>\n",
       "      <th>1</th>\n",
       "      <td>Yemen</td>\n",
       "      <td>Artist</td>\n",
       "      <td>NaN</td>\n",
       "      <td>175.0</td>\n",
       "    </tr>\n",
       "    <tr>\n",
       "      <th>2</th>\n",
       "      <td>Caro</td>\n",
       "      <td>Doctor</td>\n",
       "      <td>10.0</td>\n",
       "      <td>180.0</td>\n",
       "    </tr>\n",
       "    <tr>\n",
       "      <th>3</th>\n",
       "      <td>NaN</td>\n",
       "      <td>Writer</td>\n",
       "      <td>8.0</td>\n",
       "      <td>150.0</td>\n",
       "    </tr>\n",
       "  </tbody>\n",
       "</table>\n",
       "</div>"
      ],
      "text/plain": [
       "    Name Profession  Experience  Height\n",
       "0  James  Researher        12.0     NaN\n",
       "1  Yemen     Artist         NaN   175.0\n",
       "2   Caro     Doctor        10.0   180.0\n",
       "3    NaN     Writer         8.0   150.0"
      ]
     },
     "execution_count": 56,
     "metadata": {},
     "output_type": "execute_result"
    }
   ],
   "source": [
    "new_df"
   ]
  },
  {
   "cell_type": "code",
   "execution_count": 57,
   "id": "e189e0bd",
   "metadata": {},
   "outputs": [
    {
     "data": {
      "text/html": [
       "<div>\n",
       "<style scoped>\n",
       "    .dataframe tbody tr th:only-of-type {\n",
       "        vertical-align: middle;\n",
       "    }\n",
       "\n",
       "    .dataframe tbody tr th {\n",
       "        vertical-align: top;\n",
       "    }\n",
       "\n",
       "    .dataframe thead th {\n",
       "        text-align: right;\n",
       "    }\n",
       "</style>\n",
       "<table border=\"1\" class=\"dataframe\">\n",
       "  <thead>\n",
       "    <tr style=\"text-align: right;\">\n",
       "      <th></th>\n",
       "      <th>Name</th>\n",
       "      <th>Profession</th>\n",
       "      <th>Experience</th>\n",
       "      <th>Height</th>\n",
       "    </tr>\n",
       "  </thead>\n",
       "  <tbody>\n",
       "    <tr>\n",
       "      <th>0</th>\n",
       "      <td>James</td>\n",
       "      <td>Researher</td>\n",
       "      <td>12.0</td>\n",
       "      <td>4.0</td>\n",
       "    </tr>\n",
       "    <tr>\n",
       "      <th>1</th>\n",
       "      <td>Yemen</td>\n",
       "      <td>Artist</td>\n",
       "      <td>4.0</td>\n",
       "      <td>175.0</td>\n",
       "    </tr>\n",
       "    <tr>\n",
       "      <th>2</th>\n",
       "      <td>Caro</td>\n",
       "      <td>Doctor</td>\n",
       "      <td>10.0</td>\n",
       "      <td>180.0</td>\n",
       "    </tr>\n",
       "    <tr>\n",
       "      <th>3</th>\n",
       "      <td>4</td>\n",
       "      <td>Writer</td>\n",
       "      <td>8.0</td>\n",
       "      <td>150.0</td>\n",
       "    </tr>\n",
       "  </tbody>\n",
       "</table>\n",
       "</div>"
      ],
      "text/plain": [
       "    Name Profession  Experience  Height\n",
       "0  James  Researher        12.0     4.0\n",
       "1  Yemen     Artist         4.0   175.0\n",
       "2   Caro     Doctor        10.0   180.0\n",
       "3      4     Writer         8.0   150.0"
      ]
     },
     "execution_count": 57,
     "metadata": {},
     "output_type": "execute_result"
    }
   ],
   "source": [
    "new_df.fillna(4)"
   ]
  },
  {
   "cell_type": "code",
   "execution_count": 58,
   "id": "5d88787d",
   "metadata": {},
   "outputs": [
    {
     "data": {
      "text/plain": [
       "0     John\n",
       "1    Yemen\n",
       "2     Caro\n",
       "3      NaN\n",
       "Name: Name, dtype: object"
      ]
     },
     "execution_count": 58,
     "metadata": {},
     "output_type": "execute_result"
    }
   ],
   "source": [
    "new_df['Name'].replace('James', 'John')"
   ]
  },
  {
   "cell_type": "code",
   "execution_count": 59,
   "id": "b6277f75",
   "metadata": {},
   "outputs": [
    {
     "data": {
      "text/html": [
       "<div>\n",
       "<style scoped>\n",
       "    .dataframe tbody tr th:only-of-type {\n",
       "        vertical-align: middle;\n",
       "    }\n",
       "\n",
       "    .dataframe tbody tr th {\n",
       "        vertical-align: top;\n",
       "    }\n",
       "\n",
       "    .dataframe thead th {\n",
       "        text-align: right;\n",
       "    }\n",
       "</style>\n",
       "<table border=\"1\" class=\"dataframe\">\n",
       "  <thead>\n",
       "    <tr style=\"text-align: right;\">\n",
       "      <th></th>\n",
       "      <th>Name</th>\n",
       "      <th>Profession</th>\n",
       "      <th>Experience</th>\n",
       "      <th>Height</th>\n",
       "    </tr>\n",
       "  </thead>\n",
       "  <tbody>\n",
       "    <tr>\n",
       "      <th>0</th>\n",
       "      <td>True</td>\n",
       "      <td>True</td>\n",
       "      <td>True</td>\n",
       "      <td>False</td>\n",
       "    </tr>\n",
       "    <tr>\n",
       "      <th>1</th>\n",
       "      <td>True</td>\n",
       "      <td>True</td>\n",
       "      <td>False</td>\n",
       "      <td>True</td>\n",
       "    </tr>\n",
       "    <tr>\n",
       "      <th>2</th>\n",
       "      <td>True</td>\n",
       "      <td>True</td>\n",
       "      <td>True</td>\n",
       "      <td>True</td>\n",
       "    </tr>\n",
       "    <tr>\n",
       "      <th>3</th>\n",
       "      <td>False</td>\n",
       "      <td>True</td>\n",
       "      <td>True</td>\n",
       "      <td>True</td>\n",
       "    </tr>\n",
       "  </tbody>\n",
       "</table>\n",
       "</div>"
      ],
      "text/plain": [
       "    Name  Profession  Experience  Height\n",
       "0   True        True        True   False\n",
       "1   True        True       False    True\n",
       "2   True        True        True    True\n",
       "3  False        True        True    True"
      ]
     },
     "execution_count": 59,
     "metadata": {},
     "output_type": "execute_result"
    }
   ],
   "source": [
    "new_df.notnull()"
   ]
  },
  {
   "cell_type": "code",
   "execution_count": 60,
   "id": "6223225d",
   "metadata": {},
   "outputs": [
    {
     "data": {
      "text/html": [
       "<div>\n",
       "<style scoped>\n",
       "    .dataframe tbody tr th:only-of-type {\n",
       "        vertical-align: middle;\n",
       "    }\n",
       "\n",
       "    .dataframe tbody tr th {\n",
       "        vertical-align: top;\n",
       "    }\n",
       "\n",
       "    .dataframe thead th {\n",
       "        text-align: right;\n",
       "    }\n",
       "</style>\n",
       "<table border=\"1\" class=\"dataframe\">\n",
       "  <thead>\n",
       "    <tr style=\"text-align: right;\">\n",
       "      <th></th>\n",
       "      <th>Name</th>\n",
       "      <th>Profession</th>\n",
       "      <th>Experience</th>\n",
       "      <th>Height</th>\n",
       "    </tr>\n",
       "  </thead>\n",
       "  <tbody>\n",
       "    <tr>\n",
       "      <th>0</th>\n",
       "      <td>James</td>\n",
       "      <td>Researher</td>\n",
       "      <td>12.0</td>\n",
       "      <td>NaN</td>\n",
       "    </tr>\n",
       "    <tr>\n",
       "      <th>1</th>\n",
       "      <td>Yemen</td>\n",
       "      <td>Artist</td>\n",
       "      <td>NaN</td>\n",
       "      <td>175.0</td>\n",
       "    </tr>\n",
       "    <tr>\n",
       "      <th>2</th>\n",
       "      <td>Caro</td>\n",
       "      <td>Doctor</td>\n",
       "      <td>10.0</td>\n",
       "      <td>180.0</td>\n",
       "    </tr>\n",
       "    <tr>\n",
       "      <th>3</th>\n",
       "      <td>NaN</td>\n",
       "      <td>Writer</td>\n",
       "      <td>8.0</td>\n",
       "      <td>150.0</td>\n",
       "    </tr>\n",
       "  </tbody>\n",
       "</table>\n",
       "</div>"
      ],
      "text/plain": [
       "    Name Profession  Experience  Height\n",
       "0  James  Researher        12.0     NaN\n",
       "1  Yemen     Artist         NaN   175.0\n",
       "2   Caro     Doctor        10.0   180.0\n",
       "3    NaN     Writer         8.0   150.0"
      ]
     },
     "execution_count": 60,
     "metadata": {},
     "output_type": "execute_result"
    }
   ],
   "source": [
    "new_df"
   ]
  },
  {
   "cell_type": "code",
   "execution_count": 61,
   "id": "2e54403a",
   "metadata": {},
   "outputs": [
    {
     "data": {
      "text/html": [
       "<div>\n",
       "<style scoped>\n",
       "    .dataframe tbody tr th:only-of-type {\n",
       "        vertical-align: middle;\n",
       "    }\n",
       "\n",
       "    .dataframe tbody tr th {\n",
       "        vertical-align: top;\n",
       "    }\n",
       "\n",
       "    .dataframe thead th {\n",
       "        text-align: right;\n",
       "    }\n",
       "</style>\n",
       "<table border=\"1\" class=\"dataframe\">\n",
       "  <thead>\n",
       "    <tr style=\"text-align: right;\">\n",
       "      <th></th>\n",
       "      <th>Name</th>\n",
       "      <th>Profession</th>\n",
       "      <th>Experience</th>\n",
       "      <th>Height</th>\n",
       "    </tr>\n",
       "  </thead>\n",
       "  <tbody>\n",
       "    <tr>\n",
       "      <th>0</th>\n",
       "      <td>James</td>\n",
       "      <td>Researher</td>\n",
       "      <td>12.0</td>\n",
       "      <td>200.0</td>\n",
       "    </tr>\n",
       "    <tr>\n",
       "      <th>1</th>\n",
       "      <td>Yemen</td>\n",
       "      <td>Artist</td>\n",
       "      <td>200.0</td>\n",
       "      <td>175.0</td>\n",
       "    </tr>\n",
       "    <tr>\n",
       "      <th>2</th>\n",
       "      <td>Caro</td>\n",
       "      <td>Doctor</td>\n",
       "      <td>10.0</td>\n",
       "      <td>180.0</td>\n",
       "    </tr>\n",
       "    <tr>\n",
       "      <th>3</th>\n",
       "      <td>200</td>\n",
       "      <td>Writer</td>\n",
       "      <td>8.0</td>\n",
       "      <td>150.0</td>\n",
       "    </tr>\n",
       "  </tbody>\n",
       "</table>\n",
       "</div>"
      ],
      "text/plain": [
       "    Name Profession  Experience  Height\n",
       "0  James  Researher        12.0   200.0\n",
       "1  Yemen     Artist       200.0   175.0\n",
       "2   Caro     Doctor        10.0   180.0\n",
       "3    200     Writer         8.0   150.0"
      ]
     },
     "execution_count": 61,
     "metadata": {},
     "output_type": "execute_result"
    }
   ],
   "source": [
    "new_df.replace(np.nan, 200)"
   ]
  },
  {
   "cell_type": "code",
   "execution_count": null,
   "id": "145584be",
   "metadata": {},
   "outputs": [],
   "source": []
  },
  {
   "cell_type": "code",
   "execution_count": null,
   "id": "984df4d5",
   "metadata": {},
   "outputs": [],
   "source": []
  }
 ],
 "metadata": {
  "kernelspec": {
   "display_name": "Python 3 (ipykernel)",
   "language": "python",
   "name": "python3"
  },
  "language_info": {
   "codemirror_mode": {
    "name": "ipython",
    "version": 3
   },
   "file_extension": ".py",
   "mimetype": "text/x-python",
   "name": "python",
   "nbconvert_exporter": "python",
   "pygments_lexer": "ipython3",
   "version": "3.9.7"
  }
 },
 "nbformat": 4,
 "nbformat_minor": 5
}
